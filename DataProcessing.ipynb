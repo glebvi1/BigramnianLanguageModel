{
 "cells": [
  {
   "cell_type": "code",
   "execution_count": 14,
   "id": "confirmed-traveler",
   "metadata": {},
   "outputs": [],
   "source": [
    "import pickle\n",
    "import regex as re"
   ]
  },
  {
   "cell_type": "markdown",
   "id": "complete-helena",
   "metadata": {},
   "source": [
    "Функция-генератор считывает данные из файла"
   ]
  },
  {
   "cell_type": "code",
   "execution_count": 15,
   "id": "married-tracy",
   "metadata": {},
   "outputs": [],
   "source": [
    "def reader(file_name: str) -> str:\n",
    "    for line in open(file_name, encoding=\"utf-8\"):\n",
    "        yield line"
   ]
  },
  {
   "cell_type": "markdown",
   "id": "regulated-finnish",
   "metadata": {},
   "source": [
    "Функция \"чистит\" слово"
   ]
  },
  {
   "cell_type": "code",
   "execution_count": 16,
   "id": "public-tournament",
   "metadata": {},
   "outputs": [],
   "source": [
    "def clear(word: str) -> str:\n",
    "    new_word = re.findall(\"[а-яА-Я]\", word)\n",
    "    return \"\".join(new_word).lower()"
   ]
  },
  {
   "cell_type": "code",
   "execution_count": 24,
   "id": "precious-protocol",
   "metadata": {},
   "outputs": [],
   "source": [
    "def data_processing(file_name: str) -> dict:\n",
    "    data = {}\n",
    "    next_clear_word = \"\"\n",
    "    \n",
    "    # Проходимся циклом по каждой строке из файла\n",
    "    for line in reader(file_name):\n",
    "        if line == \"\\n\":\n",
    "            continue\n",
    "        \n",
    "        # Работаем со словами из строки\n",
    "        split = line.split(\" \")\n",
    "        for i, word in enumerate(split):\n",
    "            # Если слово последнее в абзаце, то пропускаем\n",
    "            if i == len(split) - 1:\n",
    "                continue\n",
    "                \n",
    "            if i == 0:\n",
    "                next_clear_word = clear(word)\n",
    "\n",
    "            # Переназначаем слова\n",
    "            clear_word = next_clear_word\n",
    "\n",
    "            # Убираем лишние символы в следующем слове\n",
    "            next_clear_word = clear(split[i + 1])\n",
    "            \n",
    "            # Пустую строку не добавляем\n",
    "            if clear_word == \"\" or next_clear_word == \"\":\n",
    "                continue\n",
    "            \n",
    "            # Добавляем новое слово к предыдущим\n",
    "            if clear_word in data:\n",
    "                prev_words = data.get(clear_word)\n",
    "                prev_words.add(next_clear_word)\n",
    "                data[clear_word] = prev_words\n",
    "            else:\n",
    "                data[clear_word] = set([next_clear_word])\n",
    "                \n",
    "    return data\n"
   ]
  },
  {
   "cell_type": "code",
   "execution_count": 25,
   "id": "basic-electronics",
   "metadata": {},
   "outputs": [],
   "source": [
    "file_name = \"karenina.txt\"\n",
    "data = data_processing(file_name)"
   ]
  },
  {
   "cell_type": "code",
   "execution_count": 27,
   "id": "aggressive-terror",
   "metadata": {},
   "outputs": [],
   "source": [
    "with open('data.pickle', 'wb') as f:\n",
    "    pickle.dump(data, f)"
   ]
  },
  {
   "cell_type": "code",
   "execution_count": null,
   "id": "metropolitan-tulsa",
   "metadata": {},
   "outputs": [],
   "source": []
  }
 ],
 "metadata": {
  "kernelspec": {
   "display_name": "Python 3",
   "language": "python",
   "name": "python3"
  },
  "language_info": {
   "codemirror_mode": {
    "name": "ipython",
    "version": 3
   },
   "file_extension": ".py",
   "mimetype": "text/x-python",
   "name": "python",
   "nbconvert_exporter": "python",
   "pygments_lexer": "ipython3",
   "version": "3.9.2"
  }
 },
 "nbformat": 4,
 "nbformat_minor": 5
}
