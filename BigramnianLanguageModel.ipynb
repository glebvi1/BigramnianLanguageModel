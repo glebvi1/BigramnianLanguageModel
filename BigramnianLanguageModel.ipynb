{
 "cells": [
  {
   "cell_type": "code",
   "execution_count": 86,
   "id": "suited-jungle",
   "metadata": {},
   "outputs": [],
   "source": [
    "import pickle\n",
    "import random"
   ]
  },
  {
   "cell_type": "code",
   "execution_count": 92,
   "id": "devoted-algeria",
   "metadata": {},
   "outputs": [],
   "source": [
    "class BigramnianLanguageModel:\n",
    "    def __init__(self, file_data_name):\n",
    "        self.__file_data_name = file_data_name\n",
    "\n",
    "    # Подгружаем данные из файла .pickle\n",
    "    def fit(self):\n",
    "        with open(self.__file_data_name, 'rb') as f:\n",
    "            self.__data = pickle.load(f)\n",
    "\n",
    "    # Генерируем последовательность\n",
    "    # sequence_length - длина последовательности\n",
    "    # start - начальное слово; можно оставить пустым\n",
    "    def generate(self, sequence_length=10, start=\"\"):\n",
    "        # Выберем начальное слово\n",
    "        if start == \"\":\n",
    "            start = random.choice(list(self.__data.keys()))\n",
    "            \n",
    "        if not start in self.__data:\n",
    "            return \"Такого слова нет в данных\"\n",
    "        \n",
    "        current_word = start\n",
    "        sequence = \"\"\n",
    "        \n",
    "        for i in range(sequence_length):\n",
    "            #print(\"Start =\", start, \"Current word =\", current_word, end=\" \")\n",
    "            new_word = random.sample(self.__data[current_word], 1)[0]\n",
    "            \n",
    "            # При обработки слов могут быть пропуски, например, последнее слово в аюзеце не рассматировается\n",
    "            # Потому что слова становятся не зависимые\n",
    "            while not new_word in self.__data:\n",
    "                new_word = random.sample(self.__data[current_word], 1)[0]\n",
    "            #print(\"New word =\", new_word)\n",
    "            sequence += new_word + \" \"\n",
    "            current_word = new_word\n",
    "        return sequence"
   ]
  },
  {
   "cell_type": "code",
   "execution_count": 93,
   "id": "acoustic-model",
   "metadata": {},
   "outputs": [],
   "source": [
    "file_name = \"data.pickle\"\n",
    "blm = BigramnianLanguageModel(file_name)\n",
    "blm.fit()"
   ]
  },
  {
   "cell_type": "code",
   "execution_count": 95,
   "id": "surprising-estate",
   "metadata": {},
   "outputs": [
    {
     "name": "stdout",
     "output_type": "stream",
     "text": [
      "когда входил к холодному лбу \n",
      "его оживленную фигуру как чиновника \n",
      "и смяв письма чтобы присутствовать \n",
      "сделала вид других соображений весьма \n",
      "заботами только орудия которые просили \n",
      "обеими своими облепившими ее племянница \n",
      "его ничего ни мой боже \n",
      "в девочке моей болезни кити \n",
      "нынешнего утра вронский продолжал поддерживать \n",
      "жены то права точно сумасшедший \n"
     ]
    },
    {
     "name": "stderr",
     "output_type": "stream",
     "text": [
      "<ipython-input-92-d1d6badff8e9>:26: DeprecationWarning: Sampling from a set deprecated\n",
      "since Python 3.9 and will be removed in a subsequent version.\n",
      "  new_word = random.sample(self.__data[current_word], 1)[0]\n"
     ]
    }
   ],
   "source": [
    "for _ in range(10):\n",
    "    print(blm.generate(5))"
   ]
  },
  {
   "cell_type": "code",
   "execution_count": null,
   "id": "comic-employment",
   "metadata": {},
   "outputs": [],
   "source": []
  }
 ],
 "metadata": {
  "kernelspec": {
   "display_name": "Python 3",
   "language": "python",
   "name": "python3"
  },
  "language_info": {
   "codemirror_mode": {
    "name": "ipython",
    "version": 3
   },
   "file_extension": ".py",
   "mimetype": "text/x-python",
   "name": "python",
   "nbconvert_exporter": "python",
   "pygments_lexer": "ipython3",
   "version": "3.9.2"
  }
 },
 "nbformat": 4,
 "nbformat_minor": 5
}
